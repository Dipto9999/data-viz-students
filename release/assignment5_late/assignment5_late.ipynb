{
 "cells": [
  {
   "cell_type": "markdown",
   "metadata": {},
   "source": [
    "# Data Visualization\n",
    "\n",
    "## Assignment 5: Designing Plots for Communication"
   ]
  },
  {
   "cell_type": "markdown",
   "metadata": {},
   "source": [
    "You can't learn technical subjects without hands-on practice. The assignments are an important part of the course. To submit this assignment you will need to make sure that you save your Jupyter notebook. \n",
    "\n",
    "Below are the links to 2 videos that explain:\n",
    "\n",
    "1. [How to save your Jupyter notebook](https://youtu.be/0aoLgBoAUSA) and,       \n",
    "2. [How to answer a question in a Jupyter notebook assignment](https://youtu.be/7j0WKhI3W4s)."
   ]
  },
  {
   "cell_type": "markdown",
   "metadata": {},
   "source": [
    "<div class=\"alert alert-info\" style=\"color:black\">\n",
    "    \n",
    "### Assignment Learning Goals:\n",
    "\n",
    "By the end of the module, students are expected to:\n",
    "\n",
    "- Follow guidelines for best practices in visualization design.\n",
    "- Adjust axes extents and formatting.\n",
    "- Modify titles of figure elements.\n",
    "- Choose appropriate color schemes for your data.\n",
    "- Use pre-made and custom colour schemes.\n",
    "- Selectively highlight and annotate data with color and text.\n",
    "- Directly label data instead of using legends.\n",
    "    \n",
    "\n",
    "This assignment covers [Module 5](https://viz-learn.mds.ubc.ca/en/module5) of the online course. You should complete this module before attempting this assignment.\n",
    " \n",
    "</div>"
   ]
  },
  {
   "cell_type": "markdown",
   "metadata": {},
   "source": [
    "Any place you see `...`, you must fill in the function, variable, or data to complete the code. Substitute the `None` and the `raise NotImplementedError # No Answer - remove if you provide an answer` with your completed code and answers then proceed to run the cell!"
   ]
  },
  {
   "cell_type": "markdown",
   "metadata": {},
   "source": [
    "Note that some of the questions in this assignment will have hidden tests. This means that no feedback will be given as to the correctness of your solution. It will be left up to you to decide if your answer is sufficiently correct. These questions are worth 2 points."
   ]
  },
  {
   "cell_type": "code",
   "execution_count": null,
   "metadata": {},
   "outputs": [],
   "source": [
    "# Import libraries needed for this assignment\n",
    "\n",
    "from hashlib import sha1\n",
    "import altair as alt\n",
    "import pandas as pd\n",
    "import test_assignment5 as t\n",
    "# Handle large data sets without embedding them in the notebook\n",
    "# alt.data_transformers.enable('data_server');"
   ]
  },
  {
   "cell_type": "markdown",
   "metadata": {},
   "source": [
    "# 0. So we meet again...(Fun preamble - you are free to skip this)\n",
    "\n",
    "It looks like we have some bad news to report to you. You may have already heard but Betterflix was not approved.  Copyright issues they said, can you believe it?\n",
    "\n",
    "In the spirit of a true comic book villain, The most appropriate revenge would be for the EDV Party (Exploratory Data Visualization party) to attempt world dominion. Seems fair right? Don't worry, there will be no bloodshed. We operate with class at the EDV headquarters, so our plan here is to instead deceive people into thinking that we are best suited to represent them and then reap personal benefits once in power, creative isn't it?\n",
    "\n",
    "To convince the honorary citizens of the world to vote for us, we have made several key visualizations showing what an ideal candidate we are. The only way to stop us (hmm why are we telling you this again...) is to debunk these visualizations and show voters the errors of our ways.\n",
    "\n",
    "Below is EDV's publicly distributed campaign material covering these four main areas:\n",
    "\n",
    "1. The current dramatic increase in job dissatisfaction\n",
    "2. EDV's previous record on increasing job wages for all \n",
    "3. Guns to the people\n",
    "4. EDV's great approval rating\n",
    "\n",
    "For each figure that we have made, we have also included the underlying data (imagine what a wonderful world it would be if that actually happened in real life...). You can find these datasets in the `data` folder. For each question in this assignment, you will have the following three tasks:\n",
    "\n",
    "1. Decide if you think the suggested plot and claims are misleading or not and why. In addition to what you are learning in this module, you will need to draw on your knowledge from the last few modules for when certain plots are suitable and which are common pitfalls to avoid.\n",
    "2. To earn the people's trust, you need to recreate the example plot to show that you know what I did. This includes axis labels, legends, colors, titles, figure size, everything as close as possible to the images I have pasted for each question below.\n",
    "3. Create your own better version of the same figure.\n",
    "\n",
    "![image.png](img/plotting_pm.png)\n",
    "\n",
    "*Initial design credit to Joel Ostblom's lab partner who wishes to remain anonymous. Alterations made.*\n",
    "\n",
    "Let the best candidate win... which we mean is us (Muah hah hah ha!).\n"
   ]
  },
  {
   "cell_type": "markdown",
   "metadata": {},
   "source": [
    "# Motivation (The \"serious\" version)\n",
    "\n",
    "In this assignment, we are going to analyze why certain plots are misleading and explore how we can improve them so they reflect the data more accurate. "
   ]
  },
  {
   "cell_type": "markdown",
   "metadata": {},
   "source": [
    "# 1. A Dramatic Decline in Job Satisfaction\n",
    "\n",
    "\n",
    "###  The Data\n",
    "The `cities-job-satisfaction.csv` dataset contains (fictional) data from different cities around the world.\n",
    "This data, measures which proportion of people reported that they were unsatisfied with their work situation this year compared to last year. Each data point is a different city, and the value indicates the proportion of dissatisfied workers.\n"
   ]
  },
  {
   "cell_type": "markdown",
   "metadata": {},
   "source": [
    "**Question 1.1** \n",
    "    <br> {points: 1}\n",
    "\n",
    "Read in the data `cities-job-satisfaction.csv`.  \n",
    "\n",
    "*Assign your data to a variable named `job_satisfaction_df`*"
   ]
  },
  {
   "cell_type": "code",
   "execution_count": null,
   "metadata": {
    "deletable": false,
    "nbgrader": {
     "cell_type": "code",
     "checksum": "faae141ce977345f1017306af29bc39e",
     "grade": false,
     "grade_id": "cell-5a9ebad0274bb7da",
     "locked": false,
     "schema_version": 3,
     "solution": true,
     "task": false
    }
   },
   "outputs": [],
   "source": [
    "job_satisfaction_df = None\n",
    "\n",
    "# your code here\n",
    "raise NotImplementedError # No Answer - remove if you provide an answer\n",
    "job_satisfaction_df.head()"
   ]
  },
  {
   "cell_type": "code",
   "execution_count": null,
   "metadata": {
    "deletable": false,
    "editable": false,
    "nbgrader": {
     "cell_type": "code",
     "checksum": "705d0d2d8f666799340ccb5fa4c06dfb",
     "grade": true,
     "grade_id": "cell-eb4ec0a2804cc55e",
     "locked": true,
     "points": 1,
     "schema_version": 3,
     "solution": false,
     "task": false
    }
   },
   "outputs": [],
   "source": [
    "t.test_1_1(job_satisfaction_df)"
   ]
  },
  {
   "cell_type": "markdown",
   "metadata": {},
   "source": [
    "### The Plot and the Claim\n",
    "\n",
    "#### Plot\n",
    "\n",
    "![image.png](img/job_satisfaction.png)\n",
    "\n",
    "\n",
    "#### Claim\n",
    "The EDV party is claiming that this plot proves that that people are dramatically more dissatisfied at work this year compared to last year. The plot shown uses transparency for the points to prevent overplotting/oversaturation, so this means that the entire dark area has an even amount of cities throughout.\n",
    "In other words, there are as many cities that increased from ~0% dissatisfied with their job to ~40%\n",
    "dissatisfaction as there are cities that stayed around 0%.\n",
    "\n",
    "If you vote for the EDV party, we will work tirelessly to end this spiral before it is too late!"
   ]
  },
  {
   "cell_type": "markdown",
   "metadata": {},
   "source": [
    "**Question 1.2** \n",
    "<br> {points: 2}\n",
    "\n",
    "Which of the following are some of the mistakes the plot above commits? \n",
    "\n",
    "Select all that apply:\n",
    "\n",
    "i) The plot is over-saturated with points despite using lower transparency which prohibits the reader from drawing an accurate conclusion regarding the change in dissatisfied workers. \n",
    "\n",
    "ii) The color choice is problematic as it green which is used is more in plots with positive insights.\n",
    "\n",
    "iii) The axis labels are improperly displayed with underscores for spaces which contributes to the inability to read the plot effectively. \n",
    "\n",
    "iv) The axis labels are not descriptive enough, `last_year` and `this_year` should be explained with the year number like 2021. \n",
    "\n",
    "v) The data is still displaying problematic points such as there being more dissatisfied workers than actual workers in a city. \n",
    "\n",
    "vi) The point shapes are distracting and a square shape or point would have been better at communicating the counted values. \n",
    "\n",
    "vii) The subtitle is not providing effective and explicative support to the graph.\n",
    "\n",
    "\n",
    "Select all that apply and add them into a list named `answer1_2`. For example, if statement i and iv are both true, your solution will look like this:\n",
    "\n",
    "```\n",
    "answer1_2 = [\"i\", \"iv\"]\n",
    "```"
   ]
  },
  {
   "cell_type": "code",
   "execution_count": null,
   "metadata": {
    "deletable": false,
    "nbgrader": {
     "cell_type": "code",
     "checksum": "7773915cfc59cc98ae4d5b520f18ca24",
     "grade": false,
     "grade_id": "cell-780bd41d35ac9017",
     "locked": false,
     "schema_version": 3,
     "solution": true,
     "task": false
    }
   },
   "outputs": [],
   "source": [
    "answer1_2 = None\n",
    "\n",
    "# your code here\n",
    "raise NotImplementedError # No Answer - remove if you provide an answer\n",
    "answer1_2"
   ]
  },
  {
   "cell_type": "code",
   "execution_count": null,
   "metadata": {
    "deletable": false,
    "editable": false,
    "nbgrader": {
     "cell_type": "code",
     "checksum": "695f30d51a958821ffc8246c3c9c3909",
     "grade": true,
     "grade_id": "cell-27d5cd3f878ff0e3",
     "locked": true,
     "points": 2,
     "schema_version": 3,
     "solution": false,
     "task": false
    }
   },
   "outputs": [],
   "source": [
    "t.test_1_2(answer1_2)"
   ]
  },
  {
   "cell_type": "markdown",
   "metadata": {},
   "source": [
    "**Question 1.3** \n",
    "<br> {points: 5}\n",
    "\n",
    "Recreate the plot shown above. Note that this is a lengthy question so we are going to provide several different tests so you can see if you are on your way to getting things.\n",
    "Here are a few things we will be checking.\n",
    "\n",
    "- The correct [theme](https://github.com/vega/vega-themes). Take a look at the different options and make sure you are enabling the correct one. \n",
    "- Titles, axes labels, titles and subtitles are correct. \n",
    "- Colour\n",
    "- Mapping\n",
    "- Mark\n",
    "- Size of the circles (Hint: we used a multiple of 50) \n",
    "\n",
    "*Save the plot in an object named `workers_og_plot`.*"
   ]
  },
  {
   "cell_type": "code",
   "execution_count": null,
   "metadata": {
    "deletable": false,
    "nbgrader": {
     "cell_type": "code",
     "checksum": "fd25f336acba9ddb343800597528c491",
     "grade": false,
     "grade_id": "cell-1d7e879a38b9bc11",
     "locked": false,
     "schema_version": 3,
     "solution": true,
     "task": false
    }
   },
   "outputs": [],
   "source": [
    "workers_og_plot = None\n",
    "\n",
    "# your code here\n",
    "raise NotImplementedError # No Answer - remove if you provide an answer\n",
    "workers_og_plot"
   ]
  },
  {
   "cell_type": "code",
   "execution_count": null,
   "metadata": {
    "deletable": false,
    "editable": false,
    "nbgrader": {
     "cell_type": "code",
     "checksum": "184d9af24a8790db2fb117b625f66f1a",
     "grade": true,
     "grade_id": "cell-0c6db8239ded7b2e",
     "locked": true,
     "points": 5,
     "schema_version": 3,
     "solution": false,
     "task": false
    }
   },
   "outputs": [],
   "source": [
    "t.test_1_3(workers_og_plot)"
   ]
  },
  {
   "cell_type": "markdown",
   "metadata": {},
   "source": [
    "**Question 1.4** \n",
    "<br> {points: 2}\n",
    "\n",
    "Would you say the plot above is misleading? \n",
    "\n",
    "A) Yes, the plot appears to show (and tell) a strong increase in the dissatisfaction at work when, it's inconclusive since there is over-saturation among the points. \n",
    "\n",
    "B) Yes, the plot appears to have a strong increase in the dissatisfaction at work when it's evident that the data shows otherwise. \n",
    "\n",
    "C) Yes, the plot appears to have a decrease in the dissatisfaction at work, yet the labels are explaining it otherwise.\n",
    "\n",
    "D) No, the plot is reflecting that there is a dramatic increase in the dissatisfaction at work from last year to the current year which is what is reflected from the data \n",
    "\n",
    "*Answer in the cell below using the uppercase letter associated with your answer. Place your answer between `\"\"`, assign the correct answer to an object called `answer1_4`.*"
   ]
  },
  {
   "cell_type": "code",
   "execution_count": null,
   "metadata": {
    "deletable": false,
    "nbgrader": {
     "cell_type": "code",
     "checksum": "41f0b0af7234760d76afde29fcfca5cc",
     "grade": false,
     "grade_id": "cell-5a94cf9ae7821de4",
     "locked": false,
     "schema_version": 3,
     "solution": true,
     "task": false
    }
   },
   "outputs": [],
   "source": [
    "answer1_4 = None\n",
    "\n",
    "# your code here\n",
    "raise NotImplementedError # No Answer - remove if you provide an answer\n",
    "answer1_4"
   ]
  },
  {
   "cell_type": "code",
   "execution_count": null,
   "metadata": {
    "deletable": false,
    "editable": false,
    "nbgrader": {
     "cell_type": "code",
     "checksum": "47f2cb9b5b89b2eddcca5244a4d7333a",
     "grade": true,
     "grade_id": "cell-6d784762fea6fa98",
     "locked": true,
     "points": 2,
     "schema_version": 3,
     "solution": false,
     "task": false
    }
   },
   "outputs": [],
   "source": [
    "# check that the variable exists\n",
    "assert 'answer1_4' in globals(\n",
    "), \"Please make sure that your solution is named 'answer1_4'\"\n",
    "\n",
    "# This test has been intentionally hidden. It will be up to you to decide if your solution\n",
    "# is sufficiently good."
   ]
  },
  {
   "cell_type": "markdown",
   "metadata": {},
   "source": [
    "**Question 1.5** \n",
    "<br> {points: 5}\n",
    "\n",
    "Improve the plot provided by the EDV party. \n",
    "\n",
    "This is a bit of an ambiguous question so we are providing you with some directions to help pass the tests.\n",
    "\n",
    "- Use the \"default\" theme.\n",
    "- Use `.mark_rect()` for the plotting type. \n",
    "- Makes sure you are mapping the columns `dissatisfaction_last_year` and `dissatisfaction_this_year` to the x and y-axis respectively and the count of observations to the colour channel. \n",
    "- For the x-axis, set `maxbins` to 30. \n",
    "- For the y-axis set `maxbins` to 30 and `extent=(0, 1)` within `alt.Bin()`.\n",
    "- We will be checking for proper titles and well-formated axes labels, titles and subtitles. \n",
    "- Format the axis so that it is showing a percentage instead of a proportion\n",
    "\n",
    "\n",
    "*Save the plot in an object named `workers_new_plot`.*"
   ]
  },
  {
   "cell_type": "code",
   "execution_count": null,
   "metadata": {
    "deletable": false,
    "nbgrader": {
     "cell_type": "code",
     "checksum": "272c33d249c88c4b7c5da4d76c78dd48",
     "grade": false,
     "grade_id": "cell-07c06106e450dd7e",
     "locked": false,
     "schema_version": 3,
     "solution": true,
     "task": false
    }
   },
   "outputs": [],
   "source": [
    "workers_new_plot = None\n",
    "\n",
    "# your code here\n",
    "raise NotImplementedError # No Answer - remove if you provide an answer\n",
    "workers_new_plot"
   ]
  },
  {
   "cell_type": "code",
   "execution_count": null,
   "metadata": {
    "deletable": false,
    "editable": false,
    "nbgrader": {
     "cell_type": "code",
     "checksum": "d91b806c2da0f7b5c80baad3be797ed1",
     "grade": true,
     "grade_id": "cell-cca21aa00d6b6668",
     "locked": true,
     "points": 5,
     "schema_version": 3,
     "solution": false,
     "task": false
    }
   },
   "outputs": [],
   "source": [
    "t.test_1_5(workers_new_plot)"
   ]
  },
  {
   "cell_type": "markdown",
   "metadata": {},
   "source": [
    "**Question 1.6** \n",
    "    <br> {points: 1}\n",
    "    \n",
    "Is the amended plot `workers_new_plot` from **Question 1.5** communicating EDV's initial claim?\n",
    "\n",
    "> People are dramatically more dissatisfied at work this year compared to last year. \n",
    "\n",
    "\n",
    "A) Yes, People are dramatically more dissatisfied this year compared to last year since we see the majority of people who had low percentages of dissatisfaction last year migrate to much higher percentages of dissatisfaction.\n",
    "\n",
    "B) Yes, we can clearly see that the upper diagonal has many more counts explaining that people have increased their levels of dissatisfaction\n",
    "\n",
    "C) No, Although many people who have had low levels of dissatisfaction last year now have higher levels, the narrative that \"People are dramatically more dissatisfied\" is not communicated in this plot. \n",
    "\n",
    "D) No, It appear that people have generally improved their percentage of job satisfaction. \n",
    "\n",
    "*Answer in the cell below using the uppercase letter associated with your answer. Place your answer between `\"\"`, assign the correct answer to an object called `answer1_6`.*"
   ]
  },
  {
   "cell_type": "code",
   "execution_count": null,
   "metadata": {
    "deletable": false,
    "nbgrader": {
     "cell_type": "code",
     "checksum": "7351fbbad4749894708b7327ada0bb51",
     "grade": false,
     "grade_id": "cell-d86ba4379e44e032",
     "locked": false,
     "schema_version": 3,
     "solution": true,
     "task": false
    }
   },
   "outputs": [],
   "source": [
    "answer1_6 = None\n",
    "\n",
    "# your code here\n",
    "raise NotImplementedError # No Answer - remove if you provide an answer\n",
    "answer1_6"
   ]
  },
  {
   "cell_type": "code",
   "execution_count": null,
   "metadata": {
    "deletable": false,
    "editable": false,
    "nbgrader": {
     "cell_type": "code",
     "checksum": "9608ef4a3d58d08ff320324f04f8ee20",
     "grade": true,
     "grade_id": "cell-7881c2f2ff6bf494",
     "locked": true,
     "points": 1,
     "schema_version": 3,
     "solution": false,
     "task": false
    }
   },
   "outputs": [],
   "source": [
    "t.test_1_6(answer1_6)"
   ]
  },
  {
   "cell_type": "markdown",
   "metadata": {},
   "source": [
    "**Question 1.7** \n",
    "    <br> {points: 1}\n",
    "    \n",
    "Which of the following claims is accurate? \n",
    "\n",
    "A) Job dissatisfaction dramatically increased from the previous year to this year.\n",
    "\n",
    "B) Job dissatisfaction slightly increased from the previous year to this year.\n",
    "\n",
    "C) Job dissatisfaction dramatically decreased from the previous year to this year.\n",
    "\n",
    "D) Job dissatisfaction slightly decreased from the previous year to this year.\n",
    "\n",
    "*Answer in the cell below using the uppercase letter associated with your answer. Place your answer between `\"\"`, assign the correct answer to an object called `answer1_7`.*"
   ]
  },
  {
   "cell_type": "code",
   "execution_count": null,
   "metadata": {
    "deletable": false,
    "nbgrader": {
     "cell_type": "code",
     "checksum": "0ded1a56ab148b4bc5df145996aee15f",
     "grade": false,
     "grade_id": "cell-841a4c08709fa1ae",
     "locked": false,
     "schema_version": 3,
     "solution": true,
     "task": false
    }
   },
   "outputs": [],
   "source": [
    "answer1_7 = None\n",
    "\n",
    "# your code here\n",
    "raise NotImplementedError # No Answer - remove if you provide an answer\n",
    "answer1_7"
   ]
  },
  {
   "cell_type": "code",
   "execution_count": null,
   "metadata": {
    "deletable": false,
    "editable": false,
    "nbgrader": {
     "cell_type": "code",
     "checksum": "2915f0681c1c1b0d780bdee8566146ee",
     "grade": true,
     "grade_id": "cell-40b3a90eb2a8bf16",
     "locked": true,
     "points": 1,
     "schema_version": 3,
     "solution": false,
     "task": false
    }
   },
   "outputs": [],
   "source": [
    "t.test_1_7(answer1_7)"
   ]
  },
  {
   "cell_type": "markdown",
   "metadata": {},
   "source": [
    "# 2. Higher wage rates for all!\n",
    "\n",
    "### The data\n",
    "\n",
    "Take a look at the `wages.csv`. It contains (fictional) data from different companies in the province where EDV has been elected and governing for the last few years. Each data point represents the average wage per hour an employee makes at a company.\n",
    "All the major companies in this province were surveyed **before and after EDV came to power**.\n",
    "However, this is not paired data, some companies are different from \"before\" and \"after\",\n",
    "so you do not need to do a paired analysis.\n"
   ]
  },
  {
   "cell_type": "markdown",
   "metadata": {},
   "source": [
    "**Question 2.1** \n",
    "    <br> {points: 1}\n",
    "\n",
    "Read in the `wages.csv` data.  \n",
    "\n",
    "*Assign your dataframe to a variable named `wages_df`*"
   ]
  },
  {
   "cell_type": "code",
   "execution_count": null,
   "metadata": {
    "deletable": false,
    "nbgrader": {
     "cell_type": "code",
     "checksum": "7d1f1ebbb28967e507a6abba6654e86a",
     "grade": false,
     "grade_id": "cell-ccd83049fdaf6faa",
     "locked": false,
     "schema_version": 3,
     "solution": true,
     "task": false
    }
   },
   "outputs": [],
   "source": [
    "wages_df = None\n",
    "\n",
    "# your code here\n",
    "raise NotImplementedError # No Answer - remove if you provide an answer\n",
    "wages_df.head()"
   ]
  },
  {
   "cell_type": "code",
   "execution_count": null,
   "metadata": {
    "deletable": false,
    "editable": false,
    "nbgrader": {
     "cell_type": "code",
     "checksum": "87dfbe4ccc028bac8545baab3e452cb0",
     "grade": true,
     "grade_id": "cell-0b26cf27326b0f36",
     "locked": true,
     "points": 1,
     "schema_version": 3,
     "solution": false,
     "task": false
    }
   },
   "outputs": [],
   "source": [
    "t.test_2_1(wages_df)"
   ]
  },
  {
   "cell_type": "markdown",
   "metadata": {},
   "source": [
    "### The Plot and the Claim\n",
    "\n",
    "#### Plot\n",
    "\n",
    "![image.png](img/wage.png)\n",
    "\n",
    "\n",
    "#### Claim\n",
    "\n",
    "EDV claims that they have been able to produce a significant increase in the hourly wage for workers in the province.\n",
    "This large raise almost certainly entails that most (if not all)\n",
    "workers are making more money now than before EDV came into power.\n",
    "EVD is trying to back up their claims with more robust estimates, so they have provided the median increase (which is even more notable) and the number of workers in each group (so that you can see that the samples are balanced).\n",
    "This proves that if you vote for the EDV party in the next election for Plotting Prime Minister, there will be higher salaries for all workers!"
   ]
  },
  {
   "cell_type": "markdown",
   "metadata": {},
   "source": [
    "**Question 2.2** \n",
    "<br> {points: 2}\n",
    "\n",
    "Which of the following mistakes do the plots above commit? \n",
    "\n",
    "Select all that apply:\n",
    "\n",
    "i) Important descriptive titles are omitted from the above plots\n",
    "\n",
    "ii) The color choice is problematic\n",
    "\n",
    "iii) The distribution of the data is hidden\n",
    "\n",
    "iv) The scales do not all start at 0 which can distort the difference between the before and after statistics\n",
    "\n",
    "v) The plot sizes distort the visibility of the data\n",
    "\n",
    "\n",
    "Select all that apply and add them into a list named `answer2_2`. For example, if statement i and iv are both true, your solution will look like this:\n",
    "\n",
    "```\n",
    "answer2_2 = [\"i\", \"iv\"]\n",
    "```"
   ]
  },
  {
   "cell_type": "code",
   "execution_count": null,
   "metadata": {
    "deletable": false,
    "nbgrader": {
     "cell_type": "code",
     "checksum": "b5d373920a8baaec0dc84cfd7307353a",
     "grade": false,
     "grade_id": "cell-c9a9761f844b4dc7",
     "locked": false,
     "schema_version": 3,
     "solution": true,
     "task": false
    }
   },
   "outputs": [],
   "source": [
    "answer2_2 = None\n",
    "\n",
    "# your code here\n",
    "raise NotImplementedError # No Answer - remove if you provide an answer\n",
    "answer2_2"
   ]
  },
  {
   "cell_type": "code",
   "execution_count": null,
   "metadata": {
    "deletable": false,
    "editable": false,
    "nbgrader": {
     "cell_type": "code",
     "checksum": "cfa240ef94c6d15b46f4a8b29d80691c",
     "grade": true,
     "grade_id": "cell-47333e4675592984",
     "locked": true,
     "points": 2,
     "schema_version": 3,
     "solution": false,
     "task": false
    }
   },
   "outputs": [],
   "source": [
    "t.test_2_2(answer2_2)"
   ]
  },
  {
   "cell_type": "markdown",
   "metadata": {},
   "source": [
    "It's time to try your best to recreate the plots shown above. \n",
    "We are splitting this into 2 questions, 1 for each of the plots."
   ]
  },
  {
   "cell_type": "markdown",
   "metadata": {},
   "source": [
    "**Question 2.3** \n",
    "<br> {points: 2}\n",
    "\n",
    "\n",
    "Recreate the first (median) bar plot of wages before and after the ADV party entered into power.\n",
    "\n",
    "Since this can be a little difficult to get perfectly right, here are a few things we will be checking:\n",
    "\n",
    "- The correct [theme](https://github.com/vega/vega-themes). Take a look at the different options and make sure you are enabling the correct one. \n",
    "- Titles, axes labels, titles and subtitles are correct and formatted correctly.  \n",
    "- Colour\n",
    "- Mapping\n",
    "- Mark\n",
    "- Scales \n",
    "- The bars are displayed in the correct order\n",
    "- No legend is shown for the color channel\n",
    "\n",
    "*Hint you can chain from the original `mean_plot` and amend the x mapping instead of recoding everything from scratch*\n",
    "\n",
    "*Save the plot in an object named `median_plot`.*"
   ]
  },
  {
   "cell_type": "code",
   "execution_count": null,
   "metadata": {
    "deletable": false,
    "nbgrader": {
     "cell_type": "code",
     "checksum": "60ac5569eaf4641af8568c42453a6d68",
     "grade": false,
     "grade_id": "cell-2f90db7ad11dcf02",
     "locked": false,
     "schema_version": 3,
     "solution": true,
     "task": false
    }
   },
   "outputs": [],
   "source": [
    "median_plot = None\n",
    "\n",
    "# your code here\n",
    "raise NotImplementedError # No Answer - remove if you provide an answer\n",
    "median_plot\n"
   ]
  },
  {
   "cell_type": "code",
   "execution_count": null,
   "metadata": {
    "deletable": false,
    "editable": false,
    "nbgrader": {
     "cell_type": "code",
     "checksum": "61a81a8e055dd605d1bc5bb35cedada8",
     "grade": true,
     "grade_id": "cell-62356d840b8bcb55",
     "locked": true,
     "points": 2,
     "schema_version": 3,
     "solution": false,
     "task": false
    }
   },
   "outputs": [],
   "source": [
    "t.test_2_3(median_plot)"
   ]
  },
  {
   "cell_type": "markdown",
   "metadata": {},
   "source": [
    "**Question 2.4** \n",
    "<br> {points: 3}\n",
    "\n",
    "\n",
    "Ok and now for the last one! Recreate the count bar plot of wages before and after the ADV party entered into power.\n",
    "\n",
    "Again here are a few things we will be checking for:\n",
    "\n",
    "- The correct [theme](https://github.com/vega/vega-themes). Take a look at the different options and make sure you are enabling the correct one. \n",
    "- Titles, axes labels, titles and subtitles are correct and formatted correctly.  \n",
    "- Colour\n",
    "- Mapping\n",
    "- Mark\n",
    "- scales \n",
    "- The bars are displayed in the correct order\n",
    "- No legend is shown for the color channel\n",
    "- The text is displayed in the correct places in the correct colour. You may need to use some of the parameters such as `align`, `baseline`, `dx` in the [`mark_text()`](https://altair-viz.github.io/gallery/bar_chart_with_labels.html#gallery-bar-chart-with-labels) method\n",
    "\n",
    "*Hint: In this case, you will need to layer 2 plots, 1 `base_plot` with the counted values, and a `text_plot` with the designated text. These two plots should be combined to make a final plot named `count_plot`.* "
   ]
  },
  {
   "cell_type": "code",
   "execution_count": null,
   "metadata": {
    "deletable": false,
    "nbgrader": {
     "cell_type": "code",
     "checksum": "f4c5864a9f4cfb8d841975affab79fa4",
     "grade": false,
     "grade_id": "cell-48acf270f1a371eb",
     "locked": false,
     "schema_version": 3,
     "solution": true,
     "task": false
    }
   },
   "outputs": [],
   "source": [
    "base_plot = None\n",
    "text_plot = None\n",
    "count_plot = None\n",
    "\n",
    "# your code here\n",
    "raise NotImplementedError # No Answer - remove if you provide an answer\n",
    "count_plot\n"
   ]
  },
  {
   "cell_type": "code",
   "execution_count": null,
   "metadata": {
    "deletable": false,
    "editable": false,
    "nbgrader": {
     "cell_type": "code",
     "checksum": "12059a5d5fd8d95c8ef78a2bc211c1a8",
     "grade": true,
     "grade_id": "cell-0cf9604a7af523de",
     "locked": true,
     "points": 3,
     "schema_version": 3,
     "solution": false,
     "task": false
    }
   },
   "outputs": [],
   "source": [
    "t.test_2_4(base_plot, text_plot)"
   ]
  },
  {
   "cell_type": "markdown",
   "metadata": {},
   "source": [
    "**Question 2.5** \n",
    "<br> {points: 1}\n",
    "\n",
    "Display the plots on top of each other using either [`.vconcat()`](https://altair-viz.github.io/user_guide/compound_charts.html?highlight=vconcat#vconcat-chart) or [`.hconcat()`](https://altair-viz.github.io/user_guide/compound_charts.html?highlight=vconcat#hconcat-chart) so that it is display like the plots above. \n",
    "\n",
    "*Although this isn't taught in this module, we thought we would give you a sneak peek into the next module by allowing you an opportunity to use it here. Look at the documentation in the links provided for more details.*\n",
    "\n",
    "*Save the combined plots in an object named `wages_og_plots`.*"
   ]
  },
  {
   "cell_type": "code",
   "execution_count": null,
   "metadata": {
    "deletable": false,
    "nbgrader": {
     "cell_type": "code",
     "checksum": "38d0fae43b64f473be854f16510dc454",
     "grade": false,
     "grade_id": "cell-a88605090872d615",
     "locked": false,
     "schema_version": 3,
     "solution": true,
     "task": false
    }
   },
   "outputs": [],
   "source": [
    "wages_og_plots = None\n",
    "\n",
    "# your code here\n",
    "raise NotImplementedError # No Answer - remove if you provide an answer\n",
    "wages_og_plots"
   ]
  },
  {
   "cell_type": "code",
   "execution_count": null,
   "metadata": {
    "deletable": false,
    "editable": false,
    "nbgrader": {
     "cell_type": "code",
     "checksum": "dedd26babb3e679a8c2e6c9a3fff76bc",
     "grade": true,
     "grade_id": "cell-c0c92832a5dd10b9",
     "locked": true,
     "points": 0,
     "schema_version": 3,
     "solution": false,
     "task": false
    }
   },
   "outputs": [],
   "source": [
    "t.test_2_5(wages_og_plots)"
   ]
  },
  {
   "cell_type": "markdown",
   "metadata": {},
   "source": [
    "**Question 2.6** \n",
    "<br> {points: 2}\n",
    "\n",
    "Are the plots above misleading? \n",
    "\n",
    "A) Yes, the plot appears to show the median when a better representation would have been the mean.\n",
    "\n",
    "B) Yes, the plots above do not give a thorough idea of what the data looks like by only plotting a 2 summary statistics.\n",
    "\n",
    "C) Yes, the plot appears to not show an increase in median wage when we know that's not true.\n",
    "\n",
    "D) No, the plot is correctly reflecting that EDV produced a significant increase in the average hourly wage for workers in the province.\n",
    "\n",
    "*Answer in the cell below using the uppercase letter associated with your answer. Place your answer between `\"\"`, assign the correct answer to an object called `answer2_6`.*"
   ]
  },
  {
   "cell_type": "code",
   "execution_count": null,
   "metadata": {
    "deletable": false,
    "nbgrader": {
     "cell_type": "code",
     "checksum": "a5f35e44b998149e8e0c64319ec72567",
     "grade": false,
     "grade_id": "cell-3e8614cbbcd4cd77",
     "locked": false,
     "schema_version": 3,
     "solution": true,
     "task": false
    }
   },
   "outputs": [],
   "source": [
    "answer2_6 = None\n",
    "\n",
    "# your code here\n",
    "raise NotImplementedError # No Answer - remove if you provide an answer\n",
    "answer2_6"
   ]
  },
  {
   "cell_type": "code",
   "execution_count": null,
   "metadata": {
    "deletable": false,
    "editable": false,
    "nbgrader": {
     "cell_type": "code",
     "checksum": "ef5679b8d8be0d53baa1b78aff675b28",
     "grade": true,
     "grade_id": "cell-8036f5dfefeee51f",
     "locked": true,
     "points": 2,
     "schema_version": 3,
     "solution": false,
     "task": false
    }
   },
   "outputs": [],
   "source": [
    "# check that the variable exists\n",
    "assert 'answer2_6' in globals(\n",
    "), \"Please make sure that your solution is named 'answer2_6'\"\n",
    "\n",
    "# This test has been intentionally hidden. It will be up to you to decide if your solution\n",
    "# is sufficiently good."
   ]
  },
  {
   "cell_type": "markdown",
   "metadata": {},
   "source": [
    "**Question 2.7** \n",
    "<br> {points: 5}\n",
    "\n",
    "Time to improve the plots provided by the EDV party! \n",
    "\n",
    "This is a bit of an ambiguous question so we are providing you with some directions to help pass the tests.\n",
    "\n",
    "- Make a plot that has the following criteria and name this plot `wages_new_plots`.\n",
    "- Use the \"default\" theme.\n",
    "- Use `.mark_tick()` for the plotting type. \n",
    "- Makes sure you are mapping the columns `wage` and `when` to the x and y-axis respectively. It's also useful to map the `when` column to the colour channel as well. \n",
    "- For the x-axis, set the axis format to dollars (\\$) and stop the axis from starting at zero (*Hint:[scale](https://stackoverflow.com/questions/62281179/how-to-adjust-scale-ranges-in-altair)*). \n",
    "- For the y-axis, do not include an axis label.\n",
    "- There is no need to include a legend for the colour channel in this case so make sure you remove it in the plot."
   ]
  },
  {
   "cell_type": "code",
   "execution_count": null,
   "metadata": {
    "deletable": false,
    "nbgrader": {
     "cell_type": "code",
     "checksum": "840a2acd3ec058a408c7a315901364fd",
     "grade": false,
     "grade_id": "cell-ab1123aec50fc876",
     "locked": false,
     "schema_version": 3,
     "solution": true,
     "task": false
    }
   },
   "outputs": [],
   "source": [
    "wages_new_plots = None\n",
    "\n",
    "# your code here\n",
    "raise NotImplementedError # No Answer - remove if you provide an answer\n",
    "wages_new_plots "
   ]
  },
  {
   "cell_type": "code",
   "execution_count": null,
   "metadata": {
    "deletable": false,
    "editable": false,
    "nbgrader": {
     "cell_type": "code",
     "checksum": "0d0c3678049700431762a16b201bf604",
     "grade": true,
     "grade_id": "cell-ecebf60bca0873b7",
     "locked": true,
     "points": 5,
     "schema_version": 3,
     "solution": false,
     "task": false
    }
   },
   "outputs": [],
   "source": [
    "t.test_2_7(wages_new_plots)"
   ]
  },
  {
   "cell_type": "markdown",
   "metadata": {},
   "source": [
    "**Question 2.8** \n",
    "    <br> {points: 1}\n",
    "    \n",
    "Is the amended plot `wages_new_plots` from **Question 2.7** communicating EDV's initial claim?\n",
    "\n",
    "> They have been able to produce a significant increase in the hourly wage for workers in the province. This large raise almost certainly entails that most (if not all) workers are making more money now than before EDV came into power.\n",
    "\n",
    "A) Yes, the plots above appears to show that with EDV in power, most (if not all) company's are paying their workers more money now than before EDV came into power. \n",
    "\n",
    "B) Yes, the plot appears shows an increase in median wage for when EDV was in power.\n",
    "\n",
    "C) No, the plots appears to show that with EDV in power, most company's are paying their workers less money now than before EDV came into power. \n",
    "\n",
    "D) No, the plot appears to show that although many companies did increase wage rates for workers when EDV came into power, many companies wage rates decreased significantly. \n",
    "\n",
    "*Answer in the cell below using the uppercase letter associated with your answer. Place your answer between `\"\"`, assign the correct answer to an object called `answer2_8`.*"
   ]
  },
  {
   "cell_type": "code",
   "execution_count": null,
   "metadata": {
    "deletable": false,
    "nbgrader": {
     "cell_type": "code",
     "checksum": "01f34a015a57a902ce81cd384cabeafd",
     "grade": false,
     "grade_id": "cell-67860c7badf7720d",
     "locked": false,
     "schema_version": 3,
     "solution": true,
     "task": false
    }
   },
   "outputs": [],
   "source": [
    "answer2_8 = None\n",
    "\n",
    "# your code here\n",
    "raise NotImplementedError # No Answer - remove if you provide an answer\n",
    "answer2_8"
   ]
  },
  {
   "cell_type": "code",
   "execution_count": null,
   "metadata": {
    "deletable": false,
    "editable": false,
    "nbgrader": {
     "cell_type": "code",
     "checksum": "2367be04d5f14d8ad5ae4738adfebb8d",
     "grade": true,
     "grade_id": "cell-538d49238ac1ec5d",
     "locked": true,
     "points": 1,
     "schema_version": 3,
     "solution": false,
     "task": false
    }
   },
   "outputs": [],
   "source": [
    "t.test_2_8(answer2_8)"
   ]
  },
  {
   "cell_type": "markdown",
   "metadata": {},
   "source": [
    "# 3. Guns to the people\n",
    "\n",
    "### The data\n",
    "\n",
    "The `guns.csv` dataset contains yearly data for the number of murders by firearms in Florida.\n",
    "This is based on real [data](https://www.livescience.com/45083-misleading-gun-death-chart.html) and a real [visualization ](https://cdn.mos.cms.futurecdn.net/h5MSdPM97fm55kTk4kk4P7-1024-80.jpg.webp)that attracted quite a lot of negative attention, which you can read more about online. We are going to be using fictitious data.\n",
    "\n",
    "Background: The [\"Stand your ground\"](https://en.wikipedia.org/wiki/Stand-your-ground_law) law states that people may use extreme force to defend themselves against serious and life-threatening crimes.  \n",
    "\n"
   ]
  },
  {
   "cell_type": "markdown",
   "metadata": {},
   "source": [
    "**Question 3.1** \n",
    "    <br> {points: 1}\n",
    "\n",
    "Read in the data `guns.csv`.  \n",
    "\n",
    "*Assign your data to a variable named `guns_df`*"
   ]
  },
  {
   "cell_type": "code",
   "execution_count": null,
   "metadata": {
    "deletable": false,
    "nbgrader": {
     "cell_type": "code",
     "checksum": "725e7cbd69a904c891bff1c7efdedff0",
     "grade": false,
     "grade_id": "cell-2c805546b5871579",
     "locked": false,
     "schema_version": 3,
     "solution": true,
     "task": false
    }
   },
   "outputs": [],
   "source": [
    "guns_df = None\n",
    "\n",
    "# your code here\n",
    "raise NotImplementedError # No Answer - remove if you provide an answer\n",
    "guns_df.head()"
   ]
  },
  {
   "cell_type": "code",
   "execution_count": null,
   "metadata": {
    "deletable": false,
    "editable": false,
    "nbgrader": {
     "cell_type": "code",
     "checksum": "6b212e941c9f3c74b137e5f811e2e4d5",
     "grade": true,
     "grade_id": "cell-52e3cefe2a1c3354",
     "locked": true,
     "points": 1,
     "schema_version": 3,
     "solution": false,
     "task": false
    }
   },
   "outputs": [],
   "source": [
    "t.test_3_1(guns_df)"
   ]
  },
  {
   "cell_type": "markdown",
   "metadata": {},
   "source": [
    "### The Plot and the Claim\n",
    "\n",
    "#### Plot\n",
    "\n",
    "![image.png](img/guns.png)\n",
    "\n",
    "\n",
    "#### Claim\n",
    "\n",
    "Looking at the plot above, we can see that when the gun law was enacted in Florida, deaths from firearms plummeted.\n",
    "EVD believes feels that giving people guns lowers the death by gun violence. Why wouldn't we enact this?! \n",
    "The freedom to own a gun **and** fewer firearm-related deaths? Seems like a win to us! \n",
    "\n",
    "\n",
    "Vote for the EDV party in the next election for Plotting Prime Minister!"
   ]
  },
  {
   "cell_type": "markdown",
   "metadata": {},
   "source": [
    "**Question 3.2** \n",
    "<br> {points: 2}\n",
    "\n",
    "Which of the following mistakes does the plot above commit? \n",
    "\n",
    "Select all that apply:\n",
    "\n",
    "i) The plot should not be using an area plot to communicate these results. \n",
    "\n",
    "ii) There is no proper title for the plot. \n",
    "\n",
    "iii) The scaling of the axes produces a range that's far too small and adds to the inability to read the plot effectively. \n",
    "\n",
    "iv) The y-axis label could be improved to be more informative and communicative.\n",
    "\n",
    "v) The y-axis is reversed.\n",
    "\n",
    "vi) The tick values are poorly formatted. Adding uncertainty to the axis value.\n",
    "\n",
    "vii)  The color choice is problematic. Red could be used with negative insights.\n",
    "\n",
    "\n",
    "Select all that apply and add them into a list named `answer3_2`. For example, if statement i and iv are both true, your solution will look like this:\n",
    "\n",
    "```\n",
    "answer3_2 = [\"i\", \"iv\"]\n",
    "```\n"
   ]
  },
  {
   "cell_type": "code",
   "execution_count": null,
   "metadata": {
    "deletable": false,
    "nbgrader": {
     "cell_type": "code",
     "checksum": "45ecd2510a53015e70b398becaa8caba",
     "grade": false,
     "grade_id": "cell-f2f4fef63c6dbc2e",
     "locked": false,
     "schema_version": 3,
     "solution": true,
     "task": false
    }
   },
   "outputs": [],
   "source": [
    "answer3_2 = None\n",
    "\n",
    "# your code here\n",
    "raise NotImplementedError # No Answer - remove if you provide an answer\n",
    "answer3_2"
   ]
  },
  {
   "cell_type": "code",
   "execution_count": null,
   "metadata": {
    "deletable": false,
    "editable": false,
    "nbgrader": {
     "cell_type": "code",
     "checksum": "d4134be19223fd388027aac6373045a5",
     "grade": true,
     "grade_id": "cell-b738ad3ddb7f73aa",
     "locked": true,
     "points": 2,
     "schema_version": 3,
     "solution": false,
     "task": false
    }
   },
   "outputs": [],
   "source": [
    "t.test_3_2(answer3_2)"
   ]
  },
  {
   "cell_type": "markdown",
   "metadata": {},
   "source": [
    "**Question 3.3** \n",
    "<br> {points: 3}\n",
    "\n",
    "It's important to know what's possible when making plots, so let's attempt to recreate the plot shown. At least now we can hope to educate the party on where they went wrong in their code. Do you think they will listen to reason?\n",
    "\n",
    "This plot will be split into 4 questions to walk you through the process a bit more since this is a challenging plot to make.\n",
    "\n",
    "We will start with the area plot.\n",
    "\n",
    "As we have done in the past, we are providing several different tests so you can see if you are on your way to getting things.\n",
    "\n",
    "Start by making an area plot mapping `Year` and `Firearm murders` to the correct axis, using an opacity of 0.9 and a colour equal to `#b0272f`. Make sure that the x-axis specifies no gridlines and the y-axis has a reversed scale. Give the y-axis the correct label.\n",
    "\n",
    "*Save the plot in an object named `area_plot`.*"
   ]
  },
  {
   "cell_type": "code",
   "execution_count": null,
   "metadata": {
    "deletable": false,
    "nbgrader": {
     "cell_type": "code",
     "checksum": "ba05f339c175508ab7752b0b53baa7d1",
     "grade": false,
     "grade_id": "cell-f73ad503f643388d",
     "locked": false,
     "schema_version": 3,
     "solution": true,
     "task": false
    }
   },
   "outputs": [],
   "source": [
    "area_plot = None\n",
    "\n",
    "# your code here\n",
    "raise NotImplementedError # No Answer - remove if you provide an answer\n",
    "area_plot"
   ]
  },
  {
   "cell_type": "code",
   "execution_count": null,
   "metadata": {
    "deletable": false,
    "editable": false,
    "nbgrader": {
     "cell_type": "code",
     "checksum": "7101b4ac60d93aa75fee71b821481f8d",
     "grade": true,
     "grade_id": "cell-713cd5b7546c2768",
     "locked": true,
     "points": 3,
     "schema_version": 3,
     "solution": false,
     "task": false
    }
   },
   "outputs": [],
   "source": [
    "t.test_3_3(area_plot)"
   ]
  },
  {
   "cell_type": "markdown",
   "metadata": {},
   "source": [
    "**Question 3.4** \n",
    "<br> {points: 3}\n",
    "\n",
    "Great! We have a base now! Next, we need to make a plot that has the text on it add it to our area base plot. \n",
    "\n",
    "First make a text mark using `.mark_text()`. The data that you use to make this plot should be filtered to only include the `Year` 1986 which is when the gun law was enacted. \n",
    "The font for your text should be size 14, white in color with `dx` and `dy` positions of 60 and -10 respectively. Set the text argument in `.encode()` to the desired label. You will need to use `text=alt.value(...)`. This plot should be named `text_plot`. \n",
    "\n",
    "We have added the two plots together for you and saved them in an object named `text_area_plot` (Order matters when we layer plots together). "
   ]
  },
  {
   "cell_type": "code",
   "execution_count": null,
   "metadata": {
    "deletable": false,
    "nbgrader": {
     "cell_type": "code",
     "checksum": "13f8572ec76e19266552e5ce23339a2c",
     "grade": false,
     "grade_id": "cell-a1a125289b4eef59",
     "locked": false,
     "schema_version": 3,
     "solution": true,
     "task": false
    }
   },
   "outputs": [],
   "source": [
    "text_plot = None\n",
    "\n",
    "# your code here\n",
    "raise NotImplementedError # No Answer - remove if you provide an answer\n",
    "text_area_plot = area_plot + text_plot\n",
    "text_area_plot"
   ]
  },
  {
   "cell_type": "code",
   "execution_count": null,
   "metadata": {
    "deletable": false,
    "editable": false,
    "nbgrader": {
     "cell_type": "code",
     "checksum": "b65f548e781af7f4194367a0c5a6f527",
     "grade": true,
     "grade_id": "cell-b7aa7d13812acd1d",
     "locked": true,
     "points": 3,
     "schema_version": 3,
     "solution": false,
     "task": false
    }
   },
   "outputs": [],
   "source": [
    "t.test_3_4(text_area_plot)"
   ]
  },
  {
   "cell_type": "markdown",
   "metadata": {},
   "source": [
    "**Question 3.5** \n",
    "<br> {points: 2}\n",
    "\n",
    "Lastly, to complete this plot, add `text_area_plot` with a circle plot that was chained from our base `area_plot`. The colours of the points should be black. \n",
    "\n",
    "*Save this layered plot in an object named `guns_og_plot`.*"
   ]
  },
  {
   "cell_type": "code",
   "execution_count": null,
   "metadata": {
    "deletable": false,
    "nbgrader": {
     "cell_type": "code",
     "checksum": "c625268f8c4309905cc43271cf5e7659",
     "grade": false,
     "grade_id": "cell-5602c61a11ba910c",
     "locked": false,
     "schema_version": 3,
     "solution": true,
     "task": false
    }
   },
   "outputs": [],
   "source": [
    "guns_og_plot = None\n",
    "\n",
    "# your code here\n",
    "raise NotImplementedError # No Answer - remove if you provide an answer\n",
    "guns_og_plot"
   ]
  },
  {
   "cell_type": "code",
   "execution_count": null,
   "metadata": {
    "deletable": false,
    "editable": false,
    "nbgrader": {
     "cell_type": "code",
     "checksum": "3b4221da74ece5d65027de2ded9cbe27",
     "grade": true,
     "grade_id": "cell-d47ac4516d7073da",
     "locked": true,
     "points": 2,
     "schema_version": 3,
     "solution": false,
     "task": false
    }
   },
   "outputs": [],
   "source": [
    "t.test_3_5(guns_og_plot)"
   ]
  },
  {
   "cell_type": "markdown",
   "metadata": {},
   "source": [
    "That was a lot of work but we did it! Let's now discuss this plot. "
   ]
  },
  {
   "cell_type": "markdown",
   "metadata": {},
   "source": [
    "**Question 3.6** \n",
    "<br> {points: 2}\n",
    "\n",
    "Would you say the plot above is misleading? \n",
    "\n",
    "A) Yes, because of the nature of the plot, it attempts to communicate that firearm murders decreased. \n",
    "\n",
    "B) Yes, although firearm murders did decrease over time it was not because of the gun law that was enacted. \n",
    "\n",
    "C) Yes, but it's because firearm murders steadily increased over time and not because of the gun law that was enacted.\n",
    "\n",
    "D) No, the plot is correctly reflecting that firearm murders decreased after the gun law was enacted..\n",
    "\n",
    "*Answer in the cell below using the uppercase letter associated with your answer. Place your answer between `\"\"`, assign the correct answer to an object called `answer3_6`.*"
   ]
  },
  {
   "cell_type": "code",
   "execution_count": null,
   "metadata": {
    "deletable": false,
    "nbgrader": {
     "cell_type": "code",
     "checksum": "042819e3773ff6af90981424a42e0447",
     "grade": false,
     "grade_id": "cell-efc723cb2441783a",
     "locked": false,
     "schema_version": 3,
     "solution": true,
     "task": false
    }
   },
   "outputs": [],
   "source": [
    "answer3_6 = None\n",
    "\n",
    "# your code here\n",
    "raise NotImplementedError # No Answer - remove if you provide an answer\n",
    "answer3_6"
   ]
  },
  {
   "cell_type": "code",
   "execution_count": null,
   "metadata": {
    "deletable": false,
    "editable": false,
    "nbgrader": {
     "cell_type": "code",
     "checksum": "7f0fc75474d8727914e059323c9380a4",
     "grade": true,
     "grade_id": "cell-56869b2a558c3832",
     "locked": true,
     "points": 2,
     "schema_version": 3,
     "solution": false,
     "task": false
    }
   },
   "outputs": [],
   "source": [
    "# check that the variable exists\n",
    "assert 'answer3_6' in globals(\n",
    "), \"Please make sure that your solution is named 'answer3_6'\"\n",
    "\n",
    "# This test has been intentionally hidden. It will be up to you to decide if your solution\n",
    "# is sufficiently good."
   ]
  },
  {
   "cell_type": "markdown",
   "metadata": {},
   "source": [
    "**Question 3.7** \n",
    "<br> {points: 6}\n",
    "\n",
    "Using the question above as inspiration, improve the plot from EDV so that it communicates the data more effectively. \n",
    "\n",
    "We are providing you with some directions to help pass the tests.\n",
    "\n",
    "- Convert  the `Year` column in `guns_df` to dtype `datetime64`. This can be done either by loading in the data again or converting it.\n",
    "- Make an area plot and save it in an object named `area_good_plot` for the plotting type. \n",
    "    - Map the `Year` and `Firearm murders` columns to the x and y-axis respectively. \n",
    "    - Set the colour to `#b0272f` and opacity to 0.9.\n",
    "    - Make sure to remove the grid axis lines on the x-axis.\n",
    "    - Don't forget to add a title. \n",
    "- Like you did in **question 3.4**, make another text mark plot named `text_good_plot` using `.mark_text()`.\n",
    "    - For this plot, use data filtered to only include the `Year` 1986 which is when the gun law was enacted. \n",
    "    - The font for your text should be size 16, white in color with `dx` and `dy` positions of 60 and 15 respectively.\n",
    "    - Set the text argument in `.encode()` to the desired label. You will need to use `text=alt.value(...)`. \n",
    "- Chain off from the `area_good_plot` to make a line plot named `line_good_plot` using `.mark_line()`. You will only need to assign it to a color of black and an opacity of 1. \n",
    "- Repeat the bullet point above but making points on the graph using `.mark_circle()` and naming it `circle_good_plot`. Again set color and opacity to black and 1 respectively. \n",
    "- Add `area_good_plot`, `line_good_plot`, `circle_good_plot` and `text_good_plot` together to make a layered plot and name the plot `guns_new_plot`.\n",
    "\n",
    "*Save the plot in an object named `workers_new_plot`.*"
   ]
  },
  {
   "cell_type": "code",
   "execution_count": null,
   "metadata": {
    "deletable": false,
    "nbgrader": {
     "cell_type": "code",
     "checksum": "6c202629ddc674450897010ead700d63",
     "grade": false,
     "grade_id": "cell-6e666767fd25ffb0",
     "locked": false,
     "schema_version": 3,
     "solution": true,
     "task": false
    }
   },
   "outputs": [],
   "source": [
    "area_good_plot = None\n",
    "text_good_plot = None\n",
    "line_good_plot = None\n",
    "circle_good_plot = None\n",
    "guns_new_plot = None\n",
    "\n",
    "# your code here\n",
    "raise NotImplementedError # No Answer - remove if you provide an answer\n",
    "guns_new_plot"
   ]
  },
  {
   "cell_type": "code",
   "execution_count": null,
   "metadata": {
    "deletable": false,
    "editable": false,
    "nbgrader": {
     "cell_type": "code",
     "checksum": "15f859ac52482349497ef87b6612f1b9",
     "grade": true,
     "grade_id": "cell-e0d49fb6af4b18f6",
     "locked": true,
     "points": 6,
     "schema_version": 3,
     "solution": false,
     "task": false
    }
   },
   "outputs": [],
   "source": [
    "t.test_3_7(guns_new_plot)"
   ]
  },
  {
   "cell_type": "markdown",
   "metadata": {},
   "source": [
    "**Question 3.8** \n",
    "    <br> {points: 1}\n",
    "    \n",
    "Is the amended plot `guns_new_plot` from **Question 3.7** communicating EDV's initial claim?\n",
    "\n",
    "> Giving people guns lowers the death by gun violence. \n",
    "\n",
    "\n",
    "A) Yes, the firearm deaths in Florida did decreased slightly after the \"Gun Law\" was enacted in 1986. \n",
    "\n",
    "B) Yes,  the firearm deaths in Florida decreased substantially after the \"Gun Law\" was enacted in 1986. \n",
    "\n",
    "C) No, firearm deaths in Florida increased slightly since the \"Gun Law\" was enacted in 1986. \n",
    "\n",
    "D) No, firearm deaths in Florida increased substantially since the \"Gun Law\" was enacted in 1986. \n",
    "\n",
    "*Answer \"Yes\" or \"No\" as a string in an object called `answer3_8`.*"
   ]
  },
  {
   "cell_type": "code",
   "execution_count": null,
   "metadata": {
    "deletable": false,
    "nbgrader": {
     "cell_type": "code",
     "checksum": "f306397ce8859aab966c294119aac34f",
     "grade": false,
     "grade_id": "cell-6e4a9e786b349512",
     "locked": false,
     "schema_version": 3,
     "solution": true,
     "task": false
    }
   },
   "outputs": [],
   "source": [
    "answer3_8 = None\n",
    "\n",
    "# your code here\n",
    "raise NotImplementedError # No Answer - remove if you provide an answer\n",
    "answer3_8"
   ]
  },
  {
   "cell_type": "code",
   "execution_count": null,
   "metadata": {
    "deletable": false,
    "editable": false,
    "nbgrader": {
     "cell_type": "code",
     "checksum": "e5dd01873c4b319da2074162f3cb5a16",
     "grade": true,
     "grade_id": "cell-bf96e9e2b5e2b90e",
     "locked": true,
     "points": 1,
     "schema_version": 3,
     "solution": false,
     "task": false
    }
   },
   "outputs": [],
   "source": [
    "t.test_3_8(answer3_8)"
   ]
  },
  {
   "cell_type": "markdown",
   "metadata": {},
   "source": [
    "# 4 Astronomical Approval Ratings \n",
    "\n",
    "### The data\n",
    "\n",
    "Next on our list is to compare different a sample of voters from the province EDV currently governs and the votes from a neighbouring province who's citizens have very similar demographics, laws and standards of living.\n",
    "\n",
    "The (fictional) `province-comparison.csv` dataset contains voters from each province who rated the party in power on a scale from 0 to 10. "
   ]
  },
  {
   "cell_type": "markdown",
   "metadata": {},
   "source": [
    "**Question 4.1** \n",
    "    <br> {points: 1}\n",
    "\n",
    "Read in the data `province-comparison.csv`.  \n",
    "\n",
    "*Assign your data to a variable named `province_df`.*"
   ]
  },
  {
   "cell_type": "code",
   "execution_count": null,
   "metadata": {
    "deletable": false,
    "nbgrader": {
     "cell_type": "code",
     "checksum": "3fad6f9e93598d217a3b38cd7bd9c5b4",
     "grade": false,
     "grade_id": "cell-233b3373de4f64d0",
     "locked": false,
     "schema_version": 3,
     "solution": true,
     "task": false
    }
   },
   "outputs": [],
   "source": [
    "province_df = None\n",
    "\n",
    "# your code here\n",
    "raise NotImplementedError # No Answer - remove if you provide an answer\n",
    "province_df.head()"
   ]
  },
  {
   "cell_type": "code",
   "execution_count": null,
   "metadata": {
    "deletable": false,
    "editable": false,
    "nbgrader": {
     "cell_type": "code",
     "checksum": "1c603b73a9bbf48f64c1f97a12d46dee",
     "grade": true,
     "grade_id": "cell-9a722462ecd29e9c",
     "locked": true,
     "points": 1,
     "schema_version": 3,
     "solution": false,
     "task": false
    }
   },
   "outputs": [],
   "source": [
    "t.test_4_1(province_df)"
   ]
  },
  {
   "cell_type": "markdown",
   "metadata": {},
   "source": [
    "**Question 4.2** \n",
    "    <br> {points: 1}\n",
    "\n",
    "How many data points are their for each province in `province_df`?  \n",
    "\n",
    "*Assign your answer to a object of type `int` named `data_points`.*"
   ]
  },
  {
   "cell_type": "code",
   "execution_count": null,
   "metadata": {
    "deletable": false,
    "nbgrader": {
     "cell_type": "code",
     "checksum": "cbcb0588f6d9f3440a1147dd29ffe708",
     "grade": false,
     "grade_id": "cell-e150d2ec4ea0b047",
     "locked": false,
     "schema_version": 3,
     "solution": true,
     "task": false
    }
   },
   "outputs": [],
   "source": [
    "data_points = None \n",
    "\n",
    "# your code here\n",
    "raise NotImplementedError # No Answer - remove if you provide an answer\n",
    "data_points"
   ]
  },
  {
   "cell_type": "code",
   "execution_count": null,
   "metadata": {
    "deletable": false,
    "editable": false,
    "nbgrader": {
     "cell_type": "code",
     "checksum": "56c158251adeb9fecb523da353f50d92",
     "grade": true,
     "grade_id": "cell-4b34bd3eed841c0d",
     "locked": true,
     "points": 1,
     "schema_version": 3,
     "solution": false,
     "task": false
    }
   },
   "outputs": [],
   "source": [
    "t.test_4_2(data_points)"
   ]
  },
  {
   "cell_type": "markdown",
   "metadata": {},
   "source": [
    "### The Plot and the Claim\n",
    "\n",
    "#### Plot\n",
    "\n",
    "![image.png](img/provinces.png)\n",
    "\n",
    "\n",
    "#### Claim\n",
    "\n",
    "EDV's approval ratings are through the roof!\n",
    "Clearly, we doing a better job than the governing party in the province next door.\n",
    "And as you can see, we sampled enough people to get smooth curves, which means that this difference is both likely to be statistically significant and the magnitude is just too big to ignore.\n",
    "\n",
    "If you want a high approval rating in the future, vote for the EDV party in the next election for Plotting Prime Minister!"
   ]
  },
  {
   "cell_type": "markdown",
   "metadata": {},
   "source": [
    "**Question 4.3** \n",
    "<br> {points: 2}\n",
    "\n",
    "Which of the following mistakes does the plot above commit? You may want to look at the data a bit more to get an idea of what's going on.  \n",
    "\n",
    "Select all that apply:\n",
    "\n",
    "i) The plot should not be using a density plot to communicate these results. \n",
    "\n",
    "ii) The title is not appropriate, informative or insightful. \n",
    "\n",
    "iii) The plot is created from very little data.\n",
    "\n",
    "iv) The x-axis label could be improved to be more communicative.\n",
    "\n",
    "v) The colours are too similar and instead should be more contrasting.\n",
    "\n",
    "\n",
    "Select all that apply and add them into a list named `answer4_3`. For example, if statement i and iv are both true, your solution will look like this:\n",
    "\n",
    "```\n",
    "answer4_3 = [\"i\", \"iv\"]\n",
    "```"
   ]
  },
  {
   "cell_type": "code",
   "execution_count": null,
   "metadata": {
    "deletable": false,
    "nbgrader": {
     "cell_type": "code",
     "checksum": "e04739e200a7a359e1fe5170b820ded6",
     "grade": false,
     "grade_id": "cell-e336136a1db2d7c7",
     "locked": false,
     "schema_version": 3,
     "solution": true,
     "task": false
    }
   },
   "outputs": [],
   "source": [
    "answer4_3 = None\n",
    "\n",
    "# your code here\n",
    "raise NotImplementedError # No Answer - remove if you provide an answer\n",
    "answer4_3"
   ]
  },
  {
   "cell_type": "code",
   "execution_count": null,
   "metadata": {
    "deletable": false,
    "editable": false,
    "nbgrader": {
     "cell_type": "code",
     "checksum": "c912fd4124e14eda6fc5127618df55ab",
     "grade": true,
     "grade_id": "cell-24137751e1846732",
     "locked": true,
     "points": 2,
     "schema_version": 3,
     "solution": false,
     "task": false
    }
   },
   "outputs": [],
   "source": [
    "t.test_4_3(answer4_3)"
   ]
  },
  {
   "cell_type": "markdown",
   "metadata": {},
   "source": [
    "**Question 4.4** \n",
    "<br> {points: 5}\n",
    "\n",
    "Let's get to work and see how EVD made their plot. \n",
    "\n",
    "Just like in the previous questions, we are providing several different tests so you can see if you are on your way to getting the final visualization.\n",
    "\n",
    "- Using the `province_df` data, use `transform_density()` to create the densities of the 2 groups in the `where` column for `the value` column. Name the new densities `density` in the `as_` argument.\n",
    "- Chaining from the previous method, create an area plot where `the value` and `density` are mapped to the x and y-axes.\n",
    "- Make sure to format the x-axis ticks with a `format='s'`.\n",
    "- Map the `where` column to the color channel, and make sure to scale with a range equal to the colours `steelblue` and `aquamarine`. Orient the legend at the top of the plot and do not give the legend a title.\n",
    "- Remove the entire grid from the plot using the `grid` argument in `.configure_axis()` and remove the border around the plot with the `strokeWidth` argument in `.configure_view()`.\n",
    "- Make sure the plot has an opacity of 0.4.\n",
    "\n",
    "\n",
    "*Save the plot in an object named `area_plot`.*"
   ]
  },
  {
   "cell_type": "code",
   "execution_count": null,
   "metadata": {
    "deletable": false,
    "nbgrader": {
     "cell_type": "code",
     "checksum": "2aaf4add77e8fb3e50ac7298f13caccb",
     "grade": false,
     "grade_id": "cell-60a5893833e022c5",
     "locked": false,
     "schema_version": 3,
     "solution": true,
     "task": false
    }
   },
   "outputs": [],
   "source": [
    "province_og_plot = None\n",
    "\n",
    "# your code here\n",
    "raise NotImplementedError # No Answer - remove if you provide an answer\n",
    "province_og_plot"
   ]
  },
  {
   "cell_type": "code",
   "execution_count": null,
   "metadata": {
    "deletable": false,
    "editable": false,
    "nbgrader": {
     "cell_type": "code",
     "checksum": "1f49e3e8ab07aafaeb3be8b3cdf3a7f0",
     "grade": true,
     "grade_id": "cell-5a7fd0865bd9e4b8",
     "locked": true,
     "points": 5,
     "schema_version": 3,
     "solution": false,
     "task": false
    }
   },
   "outputs": [],
   "source": [
    "t.test_4_4(province_og_plot)"
   ]
  },
  {
   "cell_type": "markdown",
   "metadata": {},
   "source": [
    "**Question 4.5** \n",
    "<br> {points: 2}\n",
    "\n",
    "Would you say the plot above is misleading? \n",
    "\n",
    "A) Yes, it's covering too much information about the neighboring province's density. \n",
    "\n",
    "B) Yes, the plot appears to communicate that EDV's province is rated significantly higher than the neighboring province without knowing how much data is being plotted.\n",
    "\n",
    "C) Yes, since it's really the neighbouring province who's province is rated significantly higher than EDV's.\n",
    "\n",
    "D) No, the plot is correctly reflecting that EDV's province rating is higher than it's neighbours.\n",
    "\n",
    "*Answer in the cell below using the uppercase letter associated with your answer. Place your answer between `\"\"`, assign the correct answer to an object called `answer4_5`.*"
   ]
  },
  {
   "cell_type": "code",
   "execution_count": null,
   "metadata": {
    "deletable": false,
    "nbgrader": {
     "cell_type": "code",
     "checksum": "fdc200bdee030b05e90925134aec3e95",
     "grade": false,
     "grade_id": "cell-e8e4f7efe9c757ea",
     "locked": false,
     "schema_version": 3,
     "solution": true,
     "task": false
    }
   },
   "outputs": [],
   "source": [
    "answer4_5 = None\n",
    "\n",
    "# your code here\n",
    "raise NotImplementedError # No Answer - remove if you provide an answer\n",
    "answer4_5"
   ]
  },
  {
   "cell_type": "code",
   "execution_count": null,
   "metadata": {
    "deletable": false,
    "editable": false,
    "nbgrader": {
     "cell_type": "code",
     "checksum": "1305c47c817037c33e010f96add5f2f9",
     "grade": true,
     "grade_id": "cell-e31117f5e31f3e0b",
     "locked": true,
     "points": 2,
     "schema_version": 3,
     "solution": false,
     "task": false
    }
   },
   "outputs": [],
   "source": [
    "# check that the variable exists\n",
    "assert 'answer4_5' in globals(\n",
    "), \"Please make sure that your solution is named 'answer4_5'\"\n",
    "\n",
    "# This test has been intentionally hidden. It will be up to you to decide if your solution\n",
    "# is sufficiently good."
   ]
  },
  {
   "cell_type": "markdown",
   "metadata": {},
   "source": [
    "**Question 4.6** \n",
    "<br> {points: 4}\n",
    "\n",
    "Using the question above as inspiration, improve the plot from EDV so that it communicates the data more effectively. \n",
    "\n",
    "We are providing you with some directions to help pass the tests.\n",
    "\n",
    "- Make a plot using a point mark with a point size equal to 50. \n",
    "- Assign it a title, and subtitle expressing any insights or conclusions. (this can be done using the title argument in `alt.Chart()` and setting `text` and `subtitle` in `alt.TitleParams()`.\n",
    "- Map `the value` column to the x-axis and the `where` column to the y axis. \n",
    "- Make sure to format the x-axis labels with `format=s`. Do not forget to give it a communicative axis label as well. \n",
    "- The y-axis, does not need a label since the categories sufficiently explain what is being graphed. \n",
    "- Configure the axis with a title and label font size both equal to 12.\n",
    "\n",
    "\n",
    "*Save the plot in an object named `province_new_plot`.*"
   ]
  },
  {
   "cell_type": "code",
   "execution_count": null,
   "metadata": {
    "deletable": false,
    "nbgrader": {
     "cell_type": "code",
     "checksum": "5a152828d5d97a4f26db60c83684846e",
     "grade": false,
     "grade_id": "cell-7ac9e1b801aaff44",
     "locked": false,
     "schema_version": 3,
     "solution": true,
     "task": false
    }
   },
   "outputs": [],
   "source": [
    "province_new_plot = None\n",
    "\n",
    "# your code here\n",
    "raise NotImplementedError # No Answer - remove if you provide an answer\n",
    "province_new_plot"
   ]
  },
  {
   "cell_type": "code",
   "execution_count": null,
   "metadata": {
    "deletable": false,
    "editable": false,
    "nbgrader": {
     "cell_type": "code",
     "checksum": "e69f8ce7602ed08f2b03570f5a8b954b",
     "grade": true,
     "grade_id": "cell-8f7fbc84f56677e5",
     "locked": true,
     "points": 4,
     "schema_version": 3,
     "solution": false,
     "task": false
    }
   },
   "outputs": [],
   "source": [
    "t.test_4_6(province_new_plot)"
   ]
  },
  {
   "cell_type": "markdown",
   "metadata": {},
   "source": [
    "**Question 4.7** \n",
    "    <br> {points: 1}\n",
    "    \n",
    "Is the amended plot `province_new_plot` from **Question 4.6** communicating EDV's initial claim?\n",
    "\n",
    "> EDV's doing a better job than the governing party in the province next door.\n",
    "\n",
    "\n",
    "A) Yes, EDV's ratings are significantly higher than the party's in the neighbouring province. \n",
    "\n",
    "B) Yes, EDV's ratings are slightly higher than the party's in the neighbouring province. \n",
    "\n",
    "C) No, EDV's ratings are significantly lower than the party's in the neighbouring province. \n",
    "\n",
    "D) No, EDV's ratings are slightly lower than the party's in the neighbouring province. \n",
    "\n",
    "E) No, their isn't enough data to confidently conclude that EDV is rated better than the neighbouring provincial party.\n",
    "\n",
    "\n",
    "*Answer in the cell below using the uppercase letter associated with your answer. Place your answer between `\"\"`, assign the correct answer to an object called `answer4_7`.*"
   ]
  },
  {
   "cell_type": "code",
   "execution_count": null,
   "metadata": {
    "deletable": false,
    "nbgrader": {
     "cell_type": "code",
     "checksum": "ac2b8cc82f75f89d4c6ae425ac5a89b8",
     "grade": false,
     "grade_id": "cell-0961316955104d8a",
     "locked": false,
     "schema_version": 3,
     "solution": true,
     "task": false
    }
   },
   "outputs": [],
   "source": [
    "answer4_7 = None\n",
    "\n",
    "# your code here\n",
    "raise NotImplementedError # No Answer - remove if you provide an answer\n",
    "answer4_7"
   ]
  },
  {
   "cell_type": "code",
   "execution_count": null,
   "metadata": {
    "deletable": false,
    "editable": false,
    "nbgrader": {
     "cell_type": "code",
     "checksum": "ebdbbf9d4e907136192e03f3e29017d7",
     "grade": true,
     "grade_id": "cell-8089eee2a7adfd8a",
     "locked": true,
     "points": 1,
     "schema_version": 3,
     "solution": false,
     "task": false
    }
   },
   "outputs": [],
   "source": [
    "t.test_4_7(answer4_7)"
   ]
  },
  {
   "cell_type": "markdown",
   "metadata": {},
   "source": [
    "## Before Submitting \n",
    "\n",
    "Before submitting your assignment please do the following:\n",
    "\n",
    "- Read through your solutions\n",
    "- **Restart your kernel, clear output and rerun your cells from top to bottom** \n",
    "- Makes sure that none of your code is broken \n",
    "- Verify that the tests from the questions you answered have obtained the output \"Success\"\n",
    "\n",
    "This is a simple way to make sure that you are submitting all the variables needed to mark the assignment. This method should help avoid losing marks due to changes in your environment.  "
   ]
  },
  {
   "cell_type": "markdown",
   "metadata": {},
   "source": [
    "## Attributions\n",
    "\n",
    "- MDS DSCI 531: Data Visualization I - [MDS's GitHub website](https://github.com/UBC-MDS/DSCI_531_viz-1) \n"
   ]
  }
 ],
 "metadata": {
  "kernelspec": {
   "display_name": "Python 3",
   "language": "python",
   "name": "python3"
  },
  "language_info": {
   "codemirror_mode": {
    "name": "ipython",
    "version": 3
   },
   "file_extension": ".py",
   "mimetype": "text/x-python",
   "name": "python",
   "nbconvert_exporter": "python",
   "pygments_lexer": "ipython3",
   "version": "3.8.5"
  },
  "toc": {
   "base_numbering": 1,
   "nav_menu": {},
   "number_sections": false,
   "sideBar": true,
   "skip_h1_title": false,
   "title_cell": "Table of Contents",
   "title_sidebar": "Contents",
   "toc_cell": false,
   "toc_position": {},
   "toc_section_display": true,
   "toc_window_display": true
  }
 },
 "nbformat": 4,
 "nbformat_minor": 4
}
